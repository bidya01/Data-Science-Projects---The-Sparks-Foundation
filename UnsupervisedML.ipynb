{
  "nbformat": 4,
  "nbformat_minor": 0,
  "metadata": {
    "colab": {
      "name": "UnsupervisedML.ipynb",
      "provenance": [],
      "authorship_tag": "ABX9TyOpxBRYejS9jwGv3g9PlV2q",
      "include_colab_link": true
    },
    "kernelspec": {
      "name": "python3",
      "display_name": "Python 3"
    },
    "language_info": {
      "name": "python"
    }
  },
  "cells": [
    {
      "cell_type": "markdown",
      "metadata": {
        "id": "view-in-github",
        "colab_type": "text"
      },
      "source": [
        "<a href=\"https://colab.research.google.com/github/bidya01/Data-Science-Projects---The-Sparks-Foundation/blob/main/UnsupervisedML.ipynb\" target=\"_parent\"><img src=\"https://colab.research.google.com/assets/colab-badge.svg\" alt=\"Open In Colab\"/></a>"
      ]
    },
    {
      "cell_type": "markdown",
      "metadata": {
        "id": "hX0slnXtcf5D"
      },
      "source": [
        "# **The Sparks Foundation - Graduate Rotational Internship Program (GRIP) April'21**"
      ]
    },
    {
      "cell_type": "markdown",
      "metadata": {
        "id": "Q3VC2JZve0E8"
      },
      "source": [
        "# **Task 2 : Prediction Using Unsupervised ML**\n",
        "\n",
        "\n"
      ]
    },
    {
      "cell_type": "markdown",
      "metadata": {
        "id": "WAGvhLGRf13o"
      },
      "source": [
        "Description : Prediction of optimum number of clusters from the given \"iris\" dataset     \n",
        "Dataset : ' https://bit.ly/3kXTdox '   \n",
        "Language Used : Python     \n",
        "Author : Bidya Dasgupta"
      ]
    },
    {
      "cell_type": "code",
      "metadata": {
        "id": "pgTC6DfS57Ps"
      },
      "source": [
        "#Importing all required libraries\n",
        "import numpy as np\n",
        "import matplotlib.pyplot as plt\n",
        "import pandas as pd\n",
        "from sklearn import datasets\n",
        "from sklearn.cluster import KMeans"
      ],
      "execution_count": 1,
      "outputs": []
    },
    {
      "cell_type": "markdown",
      "metadata": {
        "id": "51Qt6v6EqrKv"
      },
      "source": [
        "The Iris dataset is read using read_csv Pandas method and the data is stored in a data frame df. head() method is used on the dataset to see its first 10 records."
      ]
    },
    {
      "cell_type": "code",
      "metadata": {
        "colab": {
          "base_uri": "https://localhost:8080/",
          "height": 195
        },
        "id": "6Iys1BMM7Bov",
        "outputId": "2c633e6f-1bba-4e16-85e4-580ebe094bdb"
      },
      "source": [
        "#Loading the required iris dataset\n",
        "iris = datasets.load_iris()\n",
        "iris_df = pd.DataFrame(iris.data, columns = iris.feature_names)\n",
        "iris_df.head() # See the first 5 rows"
      ],
      "execution_count": 2,
      "outputs": [
        {
          "output_type": "execute_result",
          "data": {
            "text/html": [
              "<div>\n",
              "<style scoped>\n",
              "    .dataframe tbody tr th:only-of-type {\n",
              "        vertical-align: middle;\n",
              "    }\n",
              "\n",
              "    .dataframe tbody tr th {\n",
              "        vertical-align: top;\n",
              "    }\n",
              "\n",
              "    .dataframe thead th {\n",
              "        text-align: right;\n",
              "    }\n",
              "</style>\n",
              "<table border=\"1\" class=\"dataframe\">\n",
              "  <thead>\n",
              "    <tr style=\"text-align: right;\">\n",
              "      <th></th>\n",
              "      <th>sepal length (cm)</th>\n",
              "      <th>sepal width (cm)</th>\n",
              "      <th>petal length (cm)</th>\n",
              "      <th>petal width (cm)</th>\n",
              "    </tr>\n",
              "  </thead>\n",
              "  <tbody>\n",
              "    <tr>\n",
              "      <th>0</th>\n",
              "      <td>5.1</td>\n",
              "      <td>3.5</td>\n",
              "      <td>1.4</td>\n",
              "      <td>0.2</td>\n",
              "    </tr>\n",
              "    <tr>\n",
              "      <th>1</th>\n",
              "      <td>4.9</td>\n",
              "      <td>3.0</td>\n",
              "      <td>1.4</td>\n",
              "      <td>0.2</td>\n",
              "    </tr>\n",
              "    <tr>\n",
              "      <th>2</th>\n",
              "      <td>4.7</td>\n",
              "      <td>3.2</td>\n",
              "      <td>1.3</td>\n",
              "      <td>0.2</td>\n",
              "    </tr>\n",
              "    <tr>\n",
              "      <th>3</th>\n",
              "      <td>4.6</td>\n",
              "      <td>3.1</td>\n",
              "      <td>1.5</td>\n",
              "      <td>0.2</td>\n",
              "    </tr>\n",
              "    <tr>\n",
              "      <th>4</th>\n",
              "      <td>5.0</td>\n",
              "      <td>3.6</td>\n",
              "      <td>1.4</td>\n",
              "      <td>0.2</td>\n",
              "    </tr>\n",
              "  </tbody>\n",
              "</table>\n",
              "</div>"
            ],
            "text/plain": [
              "   sepal length (cm)  sepal width (cm)  petal length (cm)  petal width (cm)\n",
              "0                5.1               3.5                1.4               0.2\n",
              "1                4.9               3.0                1.4               0.2\n",
              "2                4.7               3.2                1.3               0.2\n",
              "3                4.6               3.1                1.5               0.2\n",
              "4                5.0               3.6                1.4               0.2"
            ]
          },
          "metadata": {
            "tags": []
          },
          "execution_count": 2
        }
      ]
    },
    {
      "cell_type": "markdown",
      "metadata": {
        "id": "ND3yOpJGOCj1"
      },
      "source": [
        "All four features of the dataset (sepal length, sepal width, petal length and petal width) are selected in a variable called x so that the model can be trained with these features. iloc function is used on df and the column index (0,1,2,3) are used for the four columns."
      ]
    },
    {
      "cell_type": "code",
      "metadata": {
        "id": "pj0sE6BrOCC9"
      },
      "source": [
        "x = iris_df.iloc[:,[0, 1, 2, 3]].values"
      ],
      "execution_count": 3,
      "outputs": []
    },
    {
      "cell_type": "markdown",
      "metadata": {
        "id": "Ucn78ajLtlWV"
      },
      "source": [
        "The next step is to find the optimum number of cluster for KMeans and to detmine the value of k."
      ]
    },
    {
      "cell_type": "code",
      "metadata": {
        "id": "MdgaAK-0MYVh"
      },
      "source": [
        "wcss = []\n",
        "for i in range(1,11):\n",
        "  kmeans = KMeans(n_clusters = i, init = 'k-means++',\n",
        "                  max_iter = 300, n_init = 10, random_state = 0)\n",
        "  kmeans.fit(x)\n",
        "  wcss.append(kmeans.inertia_)"
      ],
      "execution_count": 4,
      "outputs": []
    },
    {
      "cell_type": "markdown",
      "metadata": {
        "id": "euDuEpLYt3lH"
      },
      "source": [
        "The results are plotted onto a graph to observe the shape of the graph."
      ]
    },
    {
      "cell_type": "code",
      "metadata": {
        "id": "EWTgr6TARZey",
        "colab": {
          "base_uri": "https://localhost:8080/",
          "height": 404
        },
        "outputId": "89e6458d-918b-4365-a1f6-0261e588c78c"
      },
      "source": [
        "plt.plot(range(1,11),wcss)\n",
        "plt.title(\"The elbow method\")\n",
        "plt.xlabel('Number of clusters')\n",
        "plt.ylabel('Within Cluster Sum Of Squares')\n",
        "plt.grid(True)\n",
        "plt.rcParams[\"figure.figsize\"] = (8, 6)\n",
        "plt.show()"
      ],
      "execution_count": 29,
      "outputs": [
        {
          "output_type": "display_data",
          "data": {
            "image/png": "[encoded data removed]",
            "text/plain": [
              "<Figure size 576x432 with 1 Axes>"
            ]
          },
          "metadata": {
            "tags": [],
            "needs_background": "light"
          }
        }
      ]
    },
    {
      "cell_type": "markdown",
      "metadata": {
        "id": "mhEj_g5ZwNe7"
      },
      "source": [
        "**Observation** : An elbow shaped plot is obtained. Thus it is clearly evident why it is called 'The elbow method'. The elbow occurs at the optimum clusters. This is when the within cluster sum of squares(WCSS) doesn't decrease significantly with every iteration. From the above plot, the number of clusters or the value of k is chosen as **3** ."
      ]
    },
    {
      "cell_type": "markdown",
      "metadata": {
        "id": "8hwwxgP1hSOF"
      },
      "source": [
        "# **Creating the k-means Classifier**"
      ]
    },
    {
      "cell_type": "code",
      "metadata": {
        "id": "96NhyJb4l6rq"
      },
      "source": [
        "#Applying kmeans to the classifier\n",
        "kmeans = KMeans(n_clusters = 3, init = 'k-means++', max_iter = 300, n_init = 10, random_state = 0)\n",
        "y_kmeans = kmeans.fit_predict(x)"
      ],
      "execution_count": 7,
      "outputs": []
    },
    {
      "cell_type": "markdown",
      "metadata": {
        "id": "roEaMFRMi5Zj"
      },
      "source": [
        "# **Visualising the clusters**"
      ]
    },
    {
      "cell_type": "code",
      "metadata": {
        "colab": {
          "base_uri": "https://localhost:8080/",
          "height": 393
        },
        "id": "g9nZkbh8m6vl",
        "outputId": "d7f301a3-b37b-4a7e-f547-92ccb746dc25"
      },
      "source": [
        "#Visualising the clusters - On the first two columns\n",
        "plt.scatter(x[y_kmeans == 0, 0], x[y_kmeans == 0, 1],\n",
        "            s = 100, c = 'red', label = 'Iris-setosa')\n",
        "plt.scatter(x[y_kmeans == 1, 0], x[y_kmeans == 1, 1],\n",
        "            s = 100, c = 'blue', label = 'Iris-versicolour')\n",
        "plt.scatter(x[y_kmeans == 2, 0], x[y_kmeans == 2, 1],\n",
        "            s = 100, c = 'green', label = 'Iris-virginica')\n",
        "\n",
        "# Plotting the centroids of the clusters\n",
        "plt.scatter(kmeans.cluster_centers_[:, 0], kmeans.cluster_centers_[:,1],\n",
        "            s = 100, c = 'yellow', label = 'Centroids')\n",
        "plt.grid(True)\n",
        "plt.rcParams[\"figure.figsize\"] = (8,6)\n",
        "plt.legend()"
      ],
      "execution_count": 31,
      "outputs": [
        {
          "output_type": "execute_result",
          "data": {
            "text/plain": [
              "<matplotlib.legend.Legend at 0x7fb277ef0550>"
            ]
          },
          "metadata": {
            "tags": []
          },
          "execution_count": 31
        },
        {
          "output_type": "display_data",
          "data": {
            "image/png": "[encoded data removed]",
            "text/plain": [
              "<Figure size 576x432 with 1 Axes>"
            ]
          },
          "metadata": {
            "tags": [],
            "needs_background": "light"
          }
        }
      ]
    },
    {
      "cell_type": "markdown",
      "metadata": {
        "id": "ryDm9PmH4Olm"
      },
      "source": [
        "This concludes the k-means clustering."
      ]
    }
  ]
}